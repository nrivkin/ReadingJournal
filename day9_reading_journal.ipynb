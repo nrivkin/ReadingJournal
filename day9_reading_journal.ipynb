{
 "cells": [
  {
   "cell_type": "markdown",
   "metadata": {},
   "source": [
    "# Day 9 Reading Journal\n",
    "\n",
    "This journal includes several required exercises, but it is meant to encourage active reading more generally.  You should use the journal to take detailed notes, catalog questions, and explore the content from Think Python deeply.\n",
    "\n",
    "Reading: Think Python Chapter 16, 17\n",
    "\n",
    "**Due: Wednesday, February 22 at 12 noon**\n",
    "\n"
   ]
  },
  {
   "cell_type": "markdown",
   "metadata": {},
   "source": [
    "## [Chapter 16](http://www.greenteapress.com/thinkpython2/html/thinkpython2017.html)\n"
   ]
  },
  {
   "cell_type": "markdown",
   "metadata": {
    "is_question": true,
    "problem": "Exercise 16.2"
   },
   "source": [
    "### Chapter 16.1\n",
    "\n",
    "Write a boolean function called `is_after` that takes two `Time` objects, `t1` and `t2`, and returns `True` if `t1` follows `t2` chronologically and `False` otherwise. Challenge: don’t use an `if` statement. "
   ]
  },
  {
   "cell_type": "code",
   "execution_count": 2,
   "metadata": {
    "collapsed": false,
    "solution": "Exercise 16.2"
   },
   "outputs": [
    {
     "name": "stdout",
     "output_type": "stream",
     "text": [
      "Finding tests in NoName\n",
      "Trying:\n",
      "    t1 = Time()\n",
      "Expecting nothing\n",
      "ok\n",
      "Trying:\n",
      "    t1.second = 0\n",
      "Expecting nothing\n",
      "ok\n",
      "Trying:\n",
      "    t1.minute = 0\n",
      "Expecting nothing\n",
      "ok\n",
      "Trying:\n",
      "    t1.hour = 10\n",
      "Expecting nothing\n",
      "ok\n",
      "Trying:\n",
      "    t2 = Time()\n",
      "Expecting nothing\n",
      "ok\n",
      "Trying:\n",
      "    t2.second = 10\n",
      "Expecting nothing\n",
      "ok\n",
      "Trying:\n",
      "    t2.minute = 10\n",
      "Expecting nothing\n",
      "ok\n",
      "Trying:\n",
      "    t2.hour = 1\n",
      "Expecting nothing\n",
      "ok\n",
      "Trying:\n",
      "    is_after(t1,t2)\n",
      "Expecting:\n",
      "    True\n",
      "ok\n",
      "Trying:\n",
      "    is_after(t2,t1)\n",
      "Expecting:\n",
      "    False\n",
      "ok\n"
     ]
    }
   ],
   "source": [
    "class Time:\n",
    "    \"\"\"\n",
    "    object that contains the time as hours, minutes, and seconds\n",
    "    \n",
    "    attr: hour, minute, second\n",
    "    \"\"\"\n",
    "\n",
    "\n",
    "def is_after(t1,t2):\n",
    "    \"\"\"\n",
    "    returns true if t1 is after t2, otherwise false\n",
    "    \n",
    "    >>> t1 = Time()\n",
    "    >>> t1.second = 0\n",
    "    >>> t1.minute = 0\n",
    "    >>> t1.hour = 10\n",
    "    >>> t2 = Time()\n",
    "    >>> t2.second = 10\n",
    "    >>> t2.minute = 10\n",
    "    >>> t2.hour = 1\n",
    "    >>> is_after(t1,t2)\n",
    "    True\n",
    "    \n",
    "    >>> is_after(t2,t1)\n",
    "    False\n",
    "    \"\"\"\n",
    "    time1 = t1.second + 100 * t1.minute + 10000 * t1.hour\n",
    "    time2 = t2.second + 100 * t2.minute + 10000 * t2.hour\n",
    "    return time1 > time2\n",
    "\n",
    "\n",
    "import doctest\n",
    "doctest.run_docstring_examples(is_after, globals(), verbose=True)"
   ]
  },
  {
   "cell_type": "markdown",
   "metadata": {},
   "source": [
    "## [Chapter 17](http://www.greenteapress.com/thinkpython2/html/thinkpython2018.html)\n",
    "\n",
    "In chapter 17 we finally have the tools to really put user-defined classes to work! In the exercises for this reading journal, we'll go back and add methods to your `Point` class from Chapter 15 to make it a lot easier to use."
   ]
  },
  {
   "cell_type": "markdown",
   "metadata": {
    "is_question": true,
    "problem": "Exercise 17.2"
   },
   "source": [
    "### Chapter 17.5\n",
    "\n",
    "Write an init method for the `Point` class that takes `x` and `y` as optional parameters and assigns them to the corresponding attributes. "
   ]
  },
  {
   "cell_type": "code",
   "execution_count": 6,
   "metadata": {
    "collapsed": false,
    "solution": "Exercise 17.2"
   },
   "outputs": [
    {
     "data": {
      "text/plain": [
       "20"
      ]
     },
     "execution_count": 6,
     "metadata": {},
     "output_type": "execute_result"
    }
   ],
   "source": [
    "class Point:\n",
    "    \"\"\"\n",
    "    defines a point in 2D cartesian coordinates\n",
    "    \"\"\"\n",
    "    def __init__(self, x = 0, y = 0):\n",
    "        self.x = x\n",
    "        self.y = y\n",
    "        \n",
    "        \n",
    "p = Point( 20,39)\n",
    "p.x"
   ]
  },
  {
   "cell_type": "markdown",
   "metadata": {
    "is_question": true,
    "problem": "Exercise 17.3"
   },
   "source": [
    "### Chapter 17.6 \n",
    "\n",
    "Write a str method for the `Point` class. Create a `Point` object and print it."
   ]
  },
  {
   "cell_type": "code",
   "execution_count": 20,
   "metadata": {
    "collapsed": false,
    "solution": "Exercise 17.3"
   },
   "outputs": [
    {
     "name": "stdout",
     "output_type": "stream",
     "text": [
      "3,54\n"
     ]
    }
   ],
   "source": [
    "class Point:\n",
    "    \"\"\"\n",
    "    defines a point in 2D cartesian coordinates\n",
    "    \"\"\"\n",
    "    def __init__(self, x = 0, y = 0):\n",
    "        self.x = x\n",
    "        self.y = y\n",
    "        \n",
    "    \n",
    "    def __str__(self):\n",
    "        \"\"\"\n",
    "        allow point to be used as a string\n",
    "        \n",
    "        WARNING: Currently only supports integers (I could make it support floats, \n",
    "        but then it would always show a lot of decimal points. It currently rounds down.)\n",
    "        \"\"\"\n",
    "        return '%d,%d' % (self.x, self.y)\n",
    "    \n",
    "    \n",
    "p = Point(3.99,54)\n",
    "print(p)"
   ]
  },
  {
   "cell_type": "markdown",
   "metadata": {
    "is_question": true,
    "problem": "Exercise 17.4"
   },
   "source": [
    "### Chapter 17.7  \n",
    "\n",
    "Write an add method for the `Point` class. Optional: implement operator overloading so that you can use the '+' operator."
   ]
  },
  {
   "cell_type": "code",
   "execution_count": 25,
   "metadata": {
    "collapsed": false,
    "solution": "Exercise 17.4"
   },
   "outputs": [
    {
     "name": "stdout",
     "output_type": "stream",
     "text": [
      "6,8\n",
      "Sorry, that doesn't make sense\n"
     ]
    }
   ],
   "source": [
    "class Point:\n",
    "    \"\"\"\n",
    "    defines a point in 2D cartesian coordinates\n",
    "    \"\"\"\n",
    "    def __init__(self, x = 0, y = 0):\n",
    "        self.x = x\n",
    "        self.y = y\n",
    "        \n",
    "    \n",
    "    def __str__(self):\n",
    "        \"\"\"\n",
    "        allow point to be used as a string\n",
    "        \n",
    "        WARNING: Currently only supports integers (I could make it support floats, \n",
    "        but then it would always show a lot of decimal points. It currently rounds down.)\n",
    "        \"\"\"\n",
    "        return '%d,%d' % (self.x, self.y)\n",
    "    \n",
    "    \n",
    "    def __add__(self, other):\n",
    "        \"\"\"\n",
    "        Adds 2 points. Adding a scalar to a vector just doesn't make any sense, though I\n",
    "        could implement it, if it were defined\n",
    "        \"\"\"\n",
    "        if type(other) == type(self):\n",
    "            p_sum = Point(self.x + other.x, self.y + other.y)\n",
    "            return p_sum\n",
    "        else:\n",
    "            return 'Sorry, that doesn\\'t make sense'\n",
    "            \n",
    "            \n",
    "            \n",
    "p1 = Point(2,3)\n",
    "p2 = Point(4,5)\n",
    "\n",
    "\n",
    "print(p1 + p2)\n",
    "print(p1 + 5)"
   ]
  },
  {
   "cell_type": "markdown",
   "metadata": {
    "is_question": true,
    "problem": "Exercise 17.7"
   },
   "source": [
    "### Exercise 17.2\n",
    "\n",
    "This exercise is a cautionary tale about one of the most common, and difficult to find, errors in Python. Write a definition for a class named `Kangaroo` with the following methods:\n",
    "\n",
    " 1. An `__init__` method that initializes an attribute named `pouch_contents` to an empty list.\n",
    " 2. A method named `put_in_pouch` that takes an object of any type and adds it to `pouch_contents`.\n",
    " 3. A `__str__` method that returns a string representation of the `Kangaroo` object and the contents of the pouch.\n",
    "\n",
    "Test your code by creating two `Kangaroo` objects, assigning them to variables named `kanga` and `roo`, and then adding `roo` to the contents of `kanga`’s pouch.\n",
    "\n",
    "Download http://greenteapress.com/thinkpython2/code/BadKangaroo.py. It contains a solution to the previous problem with one big, nasty bug. Find and fix the bug.\n",
    "\n",
    "If you get stuck, you can download http://greenteapress.com/thinkpython2/code/GoodKangaroo.py, which explains the problem and demonstrates a solution. "
   ]
  },
  {
   "cell_type": "code",
   "execution_count": 40,
   "metadata": {
    "collapsed": false,
    "solution": "Exercise 17.7"
   },
   "outputs": [
    {
     "name": "stdout",
     "output_type": "stream",
     "text": [
      "kanga has pouch contents:\n",
      "    None\n",
      "kanga has pouch contents:\n",
      "    None\n",
      "    <__main__.Kangaroo object at 0x7f1c2a2b9160>\n",
      "roo has pouch contents:\n"
     ]
    }
   ],
   "source": [
    "class Kangaroo:\n",
    "    \"\"\"\n",
    "    note: I did end up looking at the solution\n",
    "    partial credit goes to the writer of the code found at \n",
    "    http://greenteapress.com/thinkpython2/code/GoodKangaroo.py, \n",
    "    \"\"\"\n",
    "    def __init__(self, pouch_contents = None):\n",
    "        self.name = name\n",
    "        if pouch_contents == None:\n",
    "            contents = []\n",
    "        self.pouch_contents = contents\n",
    "    \n",
    "    \n",
    "    def put_in_pouch(self, obj):\n",
    "        return self.pouch_contents.append(obj)\n",
    "    \n",
    "    \n",
    "    def __str__(self):\n",
    "        t = [ self.name + ' has pouch contents:' ]\n",
    "        for obj in self.pouch_contents:\n",
    "            s = '    ' + object.__str__(obj)\n",
    "            t.append(s)\n",
    "        return '\\n'.join(t)\n",
    "    \n",
    "    \n",
    "kanga = Kangaroo('kanga')\n",
    "roo = Kangaroo('roo')\n",
    "\n",
    "kanga.put_in_pouch('thing')\n",
    "print(kanga)\n",
    "\n",
    "kanga.put_in_pouch(roo)\n",
    "print(kanga)\n",
    "\n",
    "print(roo)"
   ]
  },
  {
   "cell_type": "markdown",
   "metadata": {
    "poll_response": true,
    "solution": "Time spent"
   },
   "source": [
    " "
   ]
  },
  {
   "cell_type": "markdown",
   "metadata": {
    "is_question": true,
    "problem": "Feedback"
   },
   "source": [
    "## Reading Journal feedback\n",
    "\n",
    "[Please complete this short survey](https://docs.google.com/forms/d/e/1FAIpQLScQekhUrf6YYjpfQiAAbavLIA-IJklv_PX1BWbGgxj7JPolmw/viewform?c=0&w=1)\n",
    "\n",
    "If you have any comments on this Reading Journal, feel free to leave them in the survey linked above. This could include suggestions to improve the exercises, topics you'd like to see covered in class next time, or other feedback.\n",
    "\n",
    "If you have Python questions or run into problems while completing the reading, you should post them to Piazza instead so you can get a quick response before your journal is submitted."
   ]
  },
  {
   "cell_type": "markdown",
   "metadata": {
    "feedback_response": true,
    "solution": "Feedback"
   },
   "source": [
    " "
   ]
  }
 ],
 "metadata": {
  "anaconda-cloud": {},
  "kernelspec": {
   "display_name": "Python 3",
   "language": "python",
   "name": "python3"
  },
  "language_info": {
   "codemirror_mode": {
    "name": "ipython",
    "version": 3
   },
   "file_extension": ".py",
   "mimetype": "text/x-python",
   "name": "python",
   "nbconvert_exporter": "python",
   "pygments_lexer": "ipython3",
   "version": "3.4.3"
  }
 },
 "nbformat": 4,
 "nbformat_minor": 0
}
