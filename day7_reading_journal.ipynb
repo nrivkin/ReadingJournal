{
 "cells": [
  {
   "cell_type": "markdown",
   "metadata": {},
   "source": [
    "# Day 7 Reading Journal\n",
    "\n",
    "This journal includes several required exercises, but it is meant to encourage active reading more generally.  You should use the journal to take detailed notes, catalog questions, and explore the content from Think Python deeply.\n",
    "\n",
    "Reading: Think Python Chapter 11, 12\n",
    "\n",
    "**Due: Monday, February 13 at 12 noon**\n",
    "\n"
   ]
  },
  {
   "cell_type": "markdown",
   "metadata": {},
   "source": [
    "## [Chapter 11](http://www.greenteapress.com/thinkpython/html/thinkpython012.html)\n"
   ]
  },
  {
   "cell_type": "markdown",
   "metadata": {},
   "source": [
    "**Quick check:** In about one sentence using your own words, what is a dictionary?"
   ]
  },
  {
   "cell_type": "markdown",
   "metadata": {},
   "source": [
    "A dictionary is a key-value mapping, which is to say that when it is given a key it returns the corresponding value."
   ]
  },
  {
   "cell_type": "markdown",
   "metadata": {},
   "source": [
    " "
   ]
  },
  {
   "cell_type": "markdown",
   "metadata": {
    "is_question": true,
    "problem": "Exercise 11.2"
   },
   "source": [
    "### Exercise 11.2  \n",
    "\n",
    "Dictionaries have a method called [`get`](https://docs.python.org/3/library/stdtypes.html#mapping-types-dict) that takes a key and a default value. If the key appears in the dictionary, `get` returns the corresponding value; otherwise it returns the default value. For example:\n",
    "\n",
    "```\n",
    ">>> h = histogram('a')\n",
    ">>> print h\n",
    "{'a': 1}\n",
    ">>> h.get('a', 0)\n",
    "1\n",
    ">>> h.get('b', 0)\n",
    "0\n",
    "```\n",
    "\n",
    "Use `get` to write `histogram` more concisely. You should be able to eliminate the `if` statement. Add unit tests for your histogram implementation."
   ]
  },
  {
   "cell_type": "code",
   "execution_count": 41,
   "metadata": {
    "collapsed": false,
    "solution": "Exercise 11.2"
   },
   "outputs": [
    {
     "name": "stdout",
     "output_type": "stream",
     "text": [
      "Finding tests in NoName\n",
      "Trying:\n",
      "    histogram('hello')\n",
      "Expecting:\n",
      "    {'l': 2, 'o': 1, 'h': 1, 'e': 1}\n",
      "**********************************************************************\n",
      "File \"__main__\", line 4, in NoName\n",
      "Failed example:\n",
      "    histogram('hello')\n",
      "Expected:\n",
      "    {'l': 2, 'o': 1, 'h': 1, 'e': 1}\n",
      "Got:\n",
      "    {'l': 2, 'e': 1, 'h': 1, 'o': 1}\n"
     ]
    }
   ],
   "source": [
    "def histogram(s):\n",
    "    \"\"\"\n",
    "    creates dictionary with frequency of letters in s\n",
    "    >>> histogram('hello')\n",
    "    {'l': 2, 'o': 1, 'h': 1, 'e': 1}\n",
    "    \"\"\"\n",
    "    d = dict()\n",
    "    for c in s:\n",
    "        d[c] = d.get(c, 0)\n",
    "        d[c] += 1\n",
    "    return d\n",
    "\n",
    "\n",
    "import doctest\n",
    "doctest.run_docstring_examples(histogram, globals(), verbose=True) \"\"\"this does not always return ok due to the way\n",
    "dictionaries return order randomly, but the verbose flag means it shows me enough data for me to check if it\n",
    "is correct \"\"\""
   ]
  },
  {
   "cell_type": "markdown",
   "metadata": {},
   "source": [
    " "
   ]
  },
  {
   "cell_type": "markdown",
   "metadata": {
    "is_question": true,
    "problem": "Exercise 11.4"
   },
   "source": [
    "### Exercise 11.4  \n",
    "\n",
    "Modify `reverse_lookup` so that it builds and returns a list of all keys that map to `v`, or an empty list if there are none. Add unit tests for your implementation."
   ]
  },
  {
   "cell_type": "code",
   "execution_count": 6,
   "metadata": {
    "collapsed": false,
    "solution": "Exercise 11.4"
   },
   "outputs": [
    {
     "name": "stdout",
     "output_type": "stream",
     "text": [
      "Finding tests in NoName\n",
      "Trying:\n",
      "    reverse_lookup({'l': 2, 'o': 1, 'h': 1, 'e': 1}, 1)\n",
      "Expecting:\n",
      "    ['h', 'o', 'e']\n",
      "ok\n",
      "Trying:\n",
      "    reverse_lookup({'l': 2, 'o': 1, 'h': 1, 'e': 1}, 3)\n",
      "Expecting:\n",
      "    []\n",
      "ok\n"
     ]
    }
   ],
   "source": [
    "def reverse_lookup(d, v):\n",
    "    \"\"\"\n",
    "    finds all keys in d that map to v, and returns an empty list if none found\n",
    "    \n",
    "    >>> reverse_lookup({'l': 2, 'o': 1, 'h': 1, 'e': 1}, 1)\n",
    "    ['h', 'o', 'e']\n",
    "    \n",
    "    >>> reverse_lookup({'l': 2, 'o': 1, 'h': 1, 'e': 1}, 3)\n",
    "    []\n",
    "    \"\"\"\n",
    "    keys = []\n",
    "    for k in d:\n",
    "        if d[k] == v:\n",
    "            keys.append(k)\n",
    "    return keys\n",
    "    raise ValueError\n",
    "    \n",
    "\n",
    "doctest.run_docstring_examples(reverse_lookup, globals(), verbose=True)"
   ]
  },
  {
   "cell_type": "markdown",
   "metadata": {},
   "source": [
    "If you'd like to learn more about errors and exceptions, you can check out the [Python tutorial](https://docs.python.org/3/tutorial/errors.html) or read ahead to [Appendix A](http://www.greenteapress.com/thinkpython2/html/thinkpython2021.html) of Think Python. If you choose to use doctest for your unit testing, it can also [deal with exceptions](https://docs.python.org/3/library/doctest.html#what-about-exceptions)."
   ]
  },
  {
   "cell_type": "markdown",
   "metadata": {},
   "source": [
    " "
   ]
  },
  {
   "cell_type": "markdown",
   "metadata": {},
   "source": [
    "**Quick check** What type of objects can be used as keys to a dictionary, i.e. what property must they have?"
   ]
  },
  {
   "cell_type": "markdown",
   "metadata": {},
   "source": [
    "Keys must be hashable"
   ]
  },
  {
   "cell_type": "markdown",
   "metadata": {},
   "source": [
    " "
   ]
  },
  {
   "cell_type": "markdown",
   "metadata": {
    "is_question": true,
    "problem": "Exercise 11.6"
   },
   "source": [
    "### Exercise 11.6 (modified)\n",
    "\n",
    "Create a memoized version of your Levenshtein distance function from Day 7. What kind of performance change do you see?\n",
    "\n",
    "Optional: If you'd like to get some quantitative results, you could check out the [timeit](https://docs.python.org/3/library/timeit.html) module\n",
    "\n",
    "Note: You can also study Fibonacci here if you prefer."
   ]
  },
  {
   "cell_type": "code",
   "execution_count": 18,
   "metadata": {
    "collapsed": false,
    "solution": "Exercise 11.6"
   },
   "outputs": [
    {
     "name": "stdout",
     "output_type": "stream",
     "text": [
      "Finding tests in NoName\n",
      "Trying:\n",
      "    levenshtein_memo('cat','cat')\n",
      "Expecting:\n",
      "    0\n",
      "ok\n",
      "Trying:\n",
      "    levenshtein_memo('c', 'cat')\n",
      "Expecting:\n",
      "    2\n",
      "ok\n",
      "0.0002902150008594617\n",
      "0.003576072000214481\n"
     ]
    }
   ],
   "source": [
    "def levenshtein(str1,str2):\n",
    "    \"\"\"\n",
    "    returns number of simple operations required to make strings identical\n",
    "    \n",
    "    >>> levenshtein(cat,cat)\n",
    "    0\n",
    "    \n",
    "    >>> levenshtein(c, cat)\n",
    "    2\n",
    "    \"\"\"\n",
    "    if str1 == str2:\n",
    "        return 0\n",
    "    elif len(str1) == 0 or len(str2) == 0:\n",
    "        return len(str1) + len(str2)\n",
    "    elif str1[0] == str2[0]:\n",
    "        return levenshtein(str1[1:len(str1)], str2[1:len(str2)])\n",
    "    elif str1[0] != str2[0]:\n",
    "        return 1 + levenshtein(str1[1:len(str1)], str2[1:len(str2)])\n",
    "    \n",
    "\n",
    "known = {',':0}\n",
    "\n",
    "if __name__ == '__main__':\n",
    "    import timeit    \n",
    "\n",
    "def levenshtein_memo(str1,str2):\n",
    "    \"\"\"\n",
    "    returns number of simple operations required to make strings identical\n",
    "    \n",
    "    >>> levenshtein_memo('cat','cat')\n",
    "    0\n",
    "    \n",
    "    >>> levenshtein_memo('c', 'cat')\n",
    "    2\n",
    "    \"\"\"\n",
    "    n = str1 + ',' + str2\n",
    "    if n in known:\n",
    "        return known[n]\n",
    "    elif str1 == str2:\n",
    "        res = 0\n",
    "    elif len(str1) == 0 or len(str2) == 0:\n",
    "        res = len(str1) + len(str2)\n",
    "    elif str1[0] == str2[0]:\n",
    "        res = levenshtein_memo(str1[1:len(str1)], str2[1:len(str2)])\n",
    "    elif str1[0] != str2[0]:\n",
    "        res = 1 + levenshtein_memo(str1[1:len(str1)], str2[1:len(str2)])\n",
    "    known[n] = res\n",
    "    return res\n",
    "\n",
    "\n",
    "doctest.run_docstring_examples(levenshtein_memo, globals(), verbose=True)\n",
    "\n",
    "wrap = 'levenshtein_memo(\"asdfghj\",\"asdqwejasd\")'\n",
    "print(timeit.timeit(wrap, setup=\"from __main__ import levenshtein_memo\", number = 1000))\n",
    "\n",
    "\n",
    "wrap = 'levenshtein(\"asdfghj\",\"asdqwejasd\")'\n",
    "print(timeit.timeit(wrap, setup=\"from __main__ import levenshtein\", number = 1000))"
   ]
  },
  {
   "cell_type": "markdown",
   "metadata": {},
   "source": [
    " "
   ]
  },
  {
   "cell_type": "markdown",
   "metadata": {},
   "source": [
    "## [Chapter 12](http://www.greenteapress.com/thinkpython2/html/thinkpython2013.html)\n",
    "\n",
    "**Quick check:** In about one sentence using your own words, what is a tuple?"
   ]
  },
  {
   "cell_type": "markdown",
   "metadata": {},
   "source": [
    "A tuple is a sequence of immutanle values, in many ways similar to a list."
   ]
  },
  {
   "cell_type": "markdown",
   "metadata": {},
   "source": [
    " "
   ]
  },
  {
   "cell_type": "markdown",
   "metadata": {
    "is_question": true,
    "problem": "Exercise 12.1"
   },
   "source": [
    "### Chapter 12.4  \n",
    "\n",
    "Many of the built-in functions use variable-length argument tuples. For example, `max` and `min` can take any number of arguments:\n",
    "\n",
    "```\n",
    ">>> max(1,2,3)\n",
    "3\n",
    "```\n",
    "\n",
    "But `sum` does not.\n",
    "\n",
    "```\n",
    ">>> sum(1,2,3)\n",
    "TypeError: sum expected at most 2 arguments, got 3\n",
    "```\n",
    "\n",
    "Write a function called ```sumall``` that takes any number of arguments and returns their sum. \n",
    "\n",
    "Write unit tests for your function. Do I actually need to keep saying this? Let's assume it's always a good idea :)"
   ]
  },
  {
   "cell_type": "code",
   "execution_count": 22,
   "metadata": {
    "collapsed": false,
    "solution": "Exercise 12.1"
   },
   "outputs": [
    {
     "name": "stdout",
     "output_type": "stream",
     "text": [
      "Finding tests in NoName\n",
      "Trying:\n",
      "    sumall(1,2,3,4,5)\n",
      "Expecting:\n",
      "    15\n",
      "ok\n",
      "Trying:\n",
      "    sumall()\n",
      "Expecting:\n",
      "    0\n",
      "ok\n"
     ]
    }
   ],
   "source": [
    "def sumall(*args):\n",
    "    \"\"\"\n",
    "    gives the sum of an arbitrary number of values\n",
    "    \n",
    "    >>> sumall(1,2,3,4,5)\n",
    "    15\n",
    "    \n",
    "    >>> sumall()\n",
    "    0\n",
    "    \"\"\"\n",
    "    l = len(args)\n",
    "    res = 0\n",
    "    for i in range(l):\n",
    "        res += args[i]\n",
    "    return res\n",
    "    \n",
    "\n",
    "doctest.run_docstring_examples(sumall, globals(), verbose=True)"
   ]
  },
  {
   "cell_type": "markdown",
   "metadata": {},
   "source": [
    "If you're interested in more flexible ways to pass arguments to functions, check out the [Python tutorial](https://docs.python.org/3/tutorial/controlflow.html#more-on-defining-functions). For instance, you can also use keyword arguments, which are collected into a dictionary just like `*` gathers variable numbers of positional arguments into a tuple.\n",
    "\n",
    "This pattern is very common for defining functions with complex optional behaviors in Python, and you will often see definitions like:\n",
    "\n",
    "```\n",
    "def my_func(required_argument1, *arguments, **keywords):\n",
    "    ...\n",
    "```"
   ]
  },
  {
   "cell_type": "markdown",
   "metadata": {},
   "source": [
    " "
   ]
  },
  {
   "cell_type": "markdown",
   "metadata": {
    "is_question": true,
    "problem": "Exercise 12 sort"
   },
   "source": [
    "### Exercise\n",
    "\n",
    "Write a function `sort_by_last_letter` that takes a list of words and returns a new list with the words sorted alphabetically by the _last letter_ in the word. Hint: use the **Decorate, Sort, Undecorate** pattern. Write unit tests for your function."
   ]
  },
  {
   "cell_type": "code",
   "execution_count": 39,
   "metadata": {
    "collapsed": false,
    "solution": "Exercise 12 sort"
   },
   "outputs": [
    {
     "name": "stdout",
     "output_type": "stream",
     "text": [
      "Finding tests in NoName\n",
      "Trying:\n",
      "    sort_by_last_letter('ad','bc','cb')\n",
      "Expecting:\n",
      "    ['cb', 'bc', 'ad']\n",
      "ok\n"
     ]
    }
   ],
   "source": [
    "def sort_by_last_letter(*args):\n",
    "    \"\"\"\n",
    "    sorts words alphabetically by their last letter\n",
    "    \n",
    "    >>> sort_by_last_letter('ad','bc','cb')\n",
    "    ['cb', 'bc', 'ad']\n",
    "    \"\"\"\n",
    "    args = list(args)\n",
    "    for i in range(len(args)):\n",
    "        args[i] = args[i][-1] + args[i]\n",
    "    args.sort()\n",
    "    for i in range(len(args)):\n",
    "        args[i] = args[i][1:len(args[i])]\n",
    "    return args\n",
    "\n",
    "\n",
    "doctest.run_docstring_examples(sort_by_last_letter, globals(), verbose=True)"
   ]
  },
  {
   "cell_type": "markdown",
   "metadata": {},
   "source": [
    " "
   ]
  },
  {
   "cell_type": "markdown",
   "metadata": {},
   "source": [
    "**Quick check** Give an example of when you might use each sequence type:\n",
    "\n",
    "- tuple\n",
    "\n",
    "- list\n",
    "\n",
    "- string"
   ]
  },
  {
   "cell_type": "markdown",
   "metadata": {},
   "source": [
    "Tuples are used for sequences of immutable arguments, and when taking a unknown number of arguments in the function call.\n",
    "\n",
    "Lists are used to hold a sequence of muttable values, when values need to be sorted, or when list comprehension methods are useful.\n",
    "\n",
    "Strings are used for words, or as arguments (they are really just arrays of chars though)."
   ]
  },
  {
   "cell_type": "markdown",
   "metadata": {},
   "source": [
    " "
   ]
  },
  {
   "cell_type": "markdown",
   "metadata": {
    "is_question": true,
    "problem": "Exercise 12.3"
   },
   "source": [
    "### Exercise 12.1 \n",
    "\n",
    "Write a function called `most_frequent` that takes a string and prints the letters in decreasing order of frequency. Find text samples from several different languages and see how letter frequency varies between languages. Compare your results with the tables at http://en.wikipedia.org/wiki/Letter_frequencies. \n",
    "\n",
    "Allen's solution (try it on your own first): http://greenteapress.com/thinkpython2/code/most_frequent.py. "
   ]
  },
  {
   "cell_type": "code",
   "execution_count": 45,
   "metadata": {
    "collapsed": false,
    "solution": "Exercise 12.3"
   },
   "outputs": [
    {
     "name": "stdout",
     "output_type": "stream",
     "text": [
      "Finding tests in NoName\n",
      "Trying:\n",
      "    most_frequent('aeaeaeeeh')\n",
      "Expecting:\n",
      "    e\n",
      "    a\n",
      "    h\n",
      "**********************************************************************\n",
      "File \"__main__\", line 5, in NoName\n",
      "Failed example:\n",
      "    most_frequent('aeaeaeeeh')\n",
      "Expected:\n",
      "    e\n",
      "    a\n",
      "    h\n",
      "Got:\n",
      "    {'e': 5, 'a': 3, 'h': 1}\n"
     ]
    }
   ],
   "source": [
    "def most_frequent(string):\n",
    "    \"\"\"\n",
    "    takes a string and prints the letters in order of frequency\n",
    "    \n",
    "    >>> most_frequent('aeaeaeeeh')\n",
    "    e\n",
    "    a\n",
    "    h\n",
    "    \"\"\"\n",
    "    freq = histogram(string)\n",
    "    print(freq)\n",
    "    \n",
    "\n",
    "doctest.run_docstring_examples(most_frequent, globals(), verbose=True)"
   ]
  },
  {
   "cell_type": "markdown",
   "metadata": {},
   "source": [
    " "
   ]
  },
  {
   "cell_type": "markdown",
   "metadata": {
    "is_question": true,
    "problem": "Exercise 12.6"
   },
   "source": [
    "### Challenge: Exercise 12.4   (optional)\n",
    "\n",
    "From a [Car Talk Puzzler](http://www.cartalk.com/content/puzzlers):\n",
    "\n",
    "What is the longest English word, that remains a valid English word, as you remove its letters one at a time?\n",
    "\n",
    "Now, letters can be removed from either end, or the middle, but you can’t rearrange any of the letters. Every time you drop a letter, you wind up with another English word. If you do that, you’re eventually going to wind up with one letter and that too is going to be an English word—one that’s found in the dictionary. I want to know what’s the longest word and how many letters does it have?\n",
    "\n",
    "I’m going to give you a little modest example: Sprite. Ok? You start off with sprite, you take a letter off, one from the interior of the word, take the r away, and we’re left with the word spite, then we take the e off the end, we’re left with spit, we take the s off, we’re left with pit, it, and I. \n",
    "\n",
    "Write a program to find all words that can be reduced in this way, and then find the longest one.\n",
    "\n",
    "This exercise is a little more challenging than most, so here are some suggestions:\n",
    "\n",
    "- You might want to write a function that takes a word and computes a list of all the words that can be formed by removing one letter. These are the “children” of the word.\n",
    "- Recursively, a word is reducible if any of its children are reducible. As a base case, you can consider the empty string reducible.\n",
    "- The word list from [Chapter 9.1](http://www.greenteapress.com/thinkpython2/html/thinkpython2010.html) Exercise 1 doesn’t contain single letter words. So you might want to add “I”, “a”, and the empty string.\n",
    "- To improve the performance of your program, you might want to memoize the words that are known to be reducible.\n",
    "\n",
    "Allen's solution: http://greenteapress.com/thinkpython2/code/reducible.py."
   ]
  },
  {
   "cell_type": "code",
   "execution_count": null,
   "metadata": {
    "collapsed": true,
    "solution": "Exercise 12.6"
   },
   "outputs": [],
   "source": []
  },
  {
   "cell_type": "markdown",
   "metadata": {},
   "source": [
    " "
   ]
  },
  {
   "cell_type": "markdown",
   "metadata": {
    "is_question": true,
    "problem": "Feedback"
   },
   "source": [
    "## Reading Journal feedback\n",
    "\n",
    "[Please complete this short survey](https://docs.google.com/forms/d/e/1FAIpQLScQekhUrf6YYjpfQiAAbavLIA-IJklv_PX1BWbGgxj7JPolmw/viewform?c=0&w=1)\n",
    "\n",
    "If you have any comments on this Reading Journal, feel free to leave them in the survey linked above. This could include suggestions to improve the exercises, topics you'd like to see covered in class next time, or other feedback.\n",
    "\n",
    "If you have Python questions or run into problems while completing the reading, you should post them to Piazza instead so you can get a quick response before your journal is submitted."
   ]
  },
  {
   "cell_type": "markdown",
   "metadata": {
    "feedback_response": true,
    "solution": "Feedback"
   },
   "source": [
    " "
   ]
  }
 ],
 "metadata": {
  "kernelspec": {
   "display_name": "Python 3",
   "language": "python",
   "name": "python3"
  },
  "language_info": {
   "codemirror_mode": {
    "name": "ipython",
    "version": 3
   },
   "file_extension": ".py",
   "mimetype": "text/x-python",
   "name": "python",
   "nbconvert_exporter": "python",
   "pygments_lexer": "ipython3",
   "version": "3.4.3"
  }
 },
 "nbformat": 4,
 "nbformat_minor": 0
}
