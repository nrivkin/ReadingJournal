{
 "cells": [
  {
   "cell_type": "markdown",
   "metadata": {},
   "source": [
    "# Day 4 Reading Journal\n",
    "\n",
    "This journal includes several required exercises, but it is meant to encourage active reading more generally.  You should use the journal to take detailed notes, catalog questions, and explore the content from Think Python deeply.\n",
    "\n",
    "Reading: Think Python Chapter 10\n",
    "\n",
    "**Due: Monday, January 30 at 12 noon**\n",
    "\n"
   ]
  },
  {
   "cell_type": "markdown",
   "metadata": {},
   "source": [
    "## [Chapter 10](http://www.greenteapress.com/thinkpython2/html/thinkpython2011.html)\n",
    "\n",
    "You may want to review [state diagrams in Chapter 2](http://greenteapress.com/thinkpython2/html/thinkpython2003.html). [Python Tutor](http://pythontutor.com/) is also helpful for visualizing the state of your program.\n",
    "\n"
   ]
  },
  {
   "cell_type": "markdown",
   "metadata": {},
   "source": [
    "### Exercise 10.3 \n",
    "Write a function called `middle` that takes a list and returns a new list that contains all but the first and last elements. So `middle([1,2,3,4])` should return `[2,3]`."
   ]
  },
  {
   "cell_type": "code",
   "execution_count": 3,
   "metadata": {
    "collapsed": false
   },
   "outputs": [
    {
     "name": "stdout",
     "output_type": "stream",
     "text": [
      "Finding tests in NoName\n",
      "Trying:\n",
      "    middle([1, 2, 3, 4])\n",
      "Expecting:\n",
      "    [2, 3]\n",
      "ok\n"
     ]
    }
   ],
   "source": [
    "def middle(list_in):\n",
    "    \"\"\"\n",
    "    >>> middle([1, 2, 3, 4])\n",
    "    [2, 3]\n",
    "    \"\"\"\n",
    "    list_out = list_in[1:len(list_in)-1]\n",
    "    return list_out\n",
    "\n",
    "\n",
    "import doctest\n",
    "doctest.run_docstring_examples(middle, globals(), verbose=True)"
   ]
  },
  {
   "cell_type": "markdown",
   "metadata": {},
   "source": [
    "### Exercise 10.4 \n",
    "Write a function called `chop` that takes a list, modifies it by removing the first and last elements, and returns `None`.\n",
    "\n",
    "What is the difference between `middle` and `chop`? Sketch out the program state or take a look at each in Python Tutor and answer the question in the Markdown cell below."
   ]
  },
  {
   "cell_type": "code",
   "execution_count": 26,
   "metadata": {
    "collapsed": false
   },
   "outputs": [
    {
     "name": "stdout",
     "output_type": "stream",
     "text": [
      "Finding tests in NoName\n",
      "Trying:\n",
      "    chop([1, 2, 3, 4])\n",
      "Expecting nothing\n",
      "ok\n"
     ]
    }
   ],
   "source": [
    "def chop(list_in):\n",
    "    \"\"\"\n",
    "    >>> chop([1, 2, 3, 4])\n",
    "    \"\"\"\n",
    "    del list_in[len(list_in) - 1]\n",
    "    res = list_in.remove(list_in[0])\n",
    "    return res  # When you request a a return of none I assume you mean of the type none,\n",
    "                # rather than the string \"None\"\n",
    "\n",
    "\n",
    "import doctest\n",
    "doctest.run_docstring_examples(chop, globals(), verbose=True)"
   ]
  },
  {
   "cell_type": "markdown",
   "metadata": {},
   "source": [
    "Middle returns a new list, leaving the original list the same, while chop alters the existing list. This means that middle has to access a new location in the computers memory, while chop does not, making chop preferable in most cases"
   ]
  },
  {
   "cell_type": "markdown",
   "metadata": {},
   "source": [
    "### Exercise 10.6 \n",
    "Two words are anagrams if you can rearrange the letters from one to spell the other. Write a function called `is_anagram` that takes two strings and returns `True` if they are anagrams."
   ]
  },
  {
   "cell_type": "code",
   "execution_count": 31,
   "metadata": {
    "collapsed": false
   },
   "outputs": [
    {
     "name": "stdout",
     "output_type": "stream",
     "text": [
      "Finding tests in NoName\n",
      "Trying:\n",
      "    is_anagram(\"asdf\",\"fdsa\")\n",
      "Expecting:\n",
      "    True\n",
      "ok\n",
      "Trying:\n",
      "    is_anagram(\"qwer\",\"qwet\")\n",
      "Expecting:\n",
      "    False\n",
      "ok\n"
     ]
    }
   ],
   "source": [
    "def is_anagram(string1,string2):\n",
    "    \"\"\"\n",
    "    >>> is_anagram(\"asdf\",\"fdsa\")\n",
    "    True\n",
    "    \n",
    "    >>> is_anagram(\"qwer\",\"qwet\")\n",
    "    False\n",
    "    \"\"\"\n",
    "    l1 = list(string1)\n",
    "    l2 = list(string2)\n",
    "    l1.sort()\n",
    "    l2.sort()\n",
    "    if  l1 == l2:\n",
    "        return True\n",
    "    return False\n",
    "\n",
    "\n",
    "import doctest\n",
    "doctest.run_docstring_examples(is_anagram, globals(), verbose=True)"
   ]
  },
  {
   "cell_type": "markdown",
   "metadata": {},
   "source": [
    "### Exercise 10.8  \n",
    "The (so-called) Birthday Paradox: <br /><br />\n",
    "1\\. Write a function called `has_duplicates` that takes a list and returns `True` if there is any element that appears more than once. It should not modify the original list.\n",
    "\n",
    "2\\. If there are 23 students in your class, what are the chances that two of you have the same birthday? Put your answer in the Markdown cell below. You can estimate this probability by generating random samples of 23 birthdays and checking for matches. Hint: you can generate random birthdays with the randint function from the [random module](https://docs.python.org/2/library/random.html).\n",
    "\n",
    "You can read about this problem at http://en.wikipedia.org/wiki/Birthday_paradox, and you can download Allen's solution from http://greenteapress.com/thinkpython2/code/birthday.py."
   ]
  },
  {
   "cell_type": "code",
   "execution_count": 43,
   "metadata": {
    "collapsed": false
   },
   "outputs": [
    {
     "data": {
      "text/plain": [
       "0.5041"
      ]
     },
     "execution_count": 43,
     "metadata": {},
     "output_type": "execute_result"
    }
   ],
   "source": [
    "def has_duplicates(lin):\n",
    "    \"\"\"\n",
    "    takes a list and returns true if any element appears more than once\n",
    "    \"\"\"\n",
    "    for i in range(len(lin) - 1):\n",
    "        for j in range (i+1,len(lin)):\n",
    "            if lin[i] == lin[j]:\n",
    "                return True\n",
    "    return False\n",
    "\n",
    "\n",
    "import random\n",
    "trials = 10000\n",
    "trues = 0\n",
    "for i in range(trials):\n",
    "    bdays = []\n",
    "    for i in range(23):\n",
    "        bdays.append(random.randint(0,364))\n",
    "    trues += has_duplicates(bdays)\n",
    "trues/trials"
   ]
  },
  {
   "cell_type": "markdown",
   "metadata": {},
   "source": []
  },
  {
   "cell_type": "markdown",
   "metadata": {},
   "source": [
    "### Challenge: Exercise 10.10 (optional)\n",
    "\n",
    "You should read [Chapter 9.1](http://www.greenteapress.com/thinkpython2/html/thinkpython2010.html) and do Exercise 1 first.\n",
    "\n",
    "To check whether a word is in the word list, you could use the `in` operator, but it would be relatively slow because it searches through the words in order (try it).\n",
    "\n",
    "Because the words are in alphabetical order, we can speed things up with a bisection search (also known as binary search), which is similar to what you do when you look a word up in the dictionary. You start in the middle and check to see whether the word you are looking for comes before the word in the middle of the list. If so, then you search the first half of the list the same way. Otherwise you search the second half.\n",
    "\n",
    "Either way, you cut the remaining search space in half. If the word list has 113,809 words, it will take about 17 steps to find the word or conclude that it’s not there.\n",
    "\n",
    "Write a function called `bisect` that takes a sorted list and a target value and returns the index of the value in the list, if it’s there, or `None` if it’s not.\n",
    "\n",
    "Or you could read the documentation of the `bisect` module and use that! Solution: http://greenteapress.com/thinkpython2/code/inlist.py."
   ]
  },
  {
   "cell_type": "code",
   "execution_count": 46,
   "metadata": {
    "collapsed": false
   },
   "outputs": [
    {
     "name": "stdout",
     "output_type": "stream",
     "text": [
      "Finding tests in NoName\n",
      "Trying:\n",
      "    bisect([1,3,5,9,23,58,258], 3)\n",
      "Expecting:\n",
      "    1\n",
      "ok\n",
      "Trying:\n",
      "    bisect([1,3,5,9,23,58,258], 4)\n",
      "Expecting nothing\n",
      "ok\n"
     ]
    }
   ],
   "source": [
    "def bisect(tspace,t):\n",
    "    \"\"\"\n",
    "    finds target t in sorted list tspace\n",
    "    \n",
    "    >>> bisect([1,3,5,9,23,58,258], 3)\n",
    "    1\n",
    "    >>> bisect([1,3,5,9,23,58,258], 4)\n",
    "    \"\"\"\n",
    "    mid = len(tspace)//2\n",
    "    if tspace[mid] == t:\n",
    "        return mid\n",
    "    elif len(tspace) == 1:\n",
    "        return\n",
    "    else:\n",
    "        newspace = tspace[0:mid]\n",
    "        return bisect(newspace,t)\n",
    "    \n",
    "\n",
    "import doctest\n",
    "doctest.run_docstring_examples(bisect, globals(), verbose=True)"
   ]
  },
  {
   "cell_type": "markdown",
   "metadata": {},
   "source": [
    "## Reading Journal feedback\n",
    "\n",
    "Have any comments on this Reading Journal? Feel free to leave them [here](https://goo.gl/forms/hZqCUAi4ir7hVN6x2) and we'll read them when you submit your journal entry. This could include suggestions to improve the exercises, topics you'd like to see covered in class next time, or other feedback.\n",
    "\n",
    "If you have Python questions or run into problems while completing the reading, you should post them to Piazza instead so you can get a quick response before your journal is submitted."
   ]
  },
  {
   "cell_type": "markdown",
   "metadata": {},
   "source": [
    "This journal took about 2.5 hours."
   ]
  }
 ],
 "metadata": {
  "kernelspec": {
   "display_name": "Python 3",
   "language": "python",
   "name": "python3"
  },
  "language_info": {
   "codemirror_mode": {
    "name": "ipython",
    "version": 3
   },
   "file_extension": ".py",
   "mimetype": "text/x-python",
   "name": "python",
   "nbconvert_exporter": "python",
   "pygments_lexer": "ipython3",
   "version": "3.4.3"
  }
 },
 "nbformat": 4,
 "nbformat_minor": 0
}
