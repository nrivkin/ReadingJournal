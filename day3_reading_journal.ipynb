{
 "cells": [
  {
   "cell_type": "markdown",
   "metadata": {},
   "source": [
    "# Day 3 Reading Journal\n",
    "\n",
    "This journal includes several required exercises, but it is meant to encourage active reading more generally.  You should use the journal to take detailed notes, catalog questions, and explore the content from Think Python deeply.\n",
    "\n",
    "Reading: Think Python Chapter 8, 10.1-10.6\n",
    "\n",
    "**Due: Thursday, January 26 at noon**\n",
    "\n"
   ]
  },
  {
   "cell_type": "markdown",
   "metadata": {},
   "source": [
    "## [Chapter 8](http://www.greenteapress.com/thinkpython2/html/thinkpython2009.html)\n",
    "\n",
    "Note: the exercise numbers below match up with the reading for ease of cross referencing."
   ]
  },
  {
   "cell_type": "markdown",
   "metadata": {},
   "source": [
    "### Chapter 8.3  \n",
    "\n",
    "Write a function that takes a string as an argument and displays the letters backward, one per line."
   ]
  },
  {
   "cell_type": "code",
   "execution_count": 12,
   "metadata": {
    "collapsed": false
   },
   "outputs": [
    {
     "name": "stdout",
     "output_type": "stream",
     "text": [
      "Finding tests in NoName\n",
      "Trying:\n",
      "    reverse(\"abcd\")\n",
      "Expecting:\n",
      "    'dcba'\n",
      "ok\n"
     ]
    }
   ],
   "source": [
    "def reverse(string):\n",
    "    \"\"\"\n",
    "    Returns given string backwards\n",
    "    \n",
    "    >>> reverse(\"abcd\")\n",
    "    'dcba'\n",
    "    \"\"\"\n",
    "    reversed = ''\n",
    "    for letter in string:\n",
    "        reversed = letter + reversed\n",
    "    return reversed\n",
    "\n",
    "import doctest\n",
    "doctest.run_docstring_examples(reverse, globals(), verbose=True)"
   ]
  },
  {
   "cell_type": "markdown",
   "metadata": {},
   "source": [
    "**Challenge (optional):** Write a function that translates words into [Pig Latin](https://en.wikipedia.org/wiki/Pig_Latin). \n",
    "\n",
    "**Challenge to the challenge**: Write a function that translates back into English."
   ]
  },
  {
   "cell_type": "code",
   "execution_count": 16,
   "metadata": {
    "collapsed": false
   },
   "outputs": [
    {
     "name": "stdout",
     "output_type": "stream",
     "text": [
      "Finding tests in NoName\n",
      "Trying:\n",
      "    pig_latin(\"software\")\n",
      "Expecting:\n",
      "    'oftwaresay'\n",
      "ok\n"
     ]
    }
   ],
   "source": [
    "def pig_latin(word):\n",
    "    \"\"\"\n",
    "    Return given 'word' translated into Pig Latin\n",
    "    \n",
    "    >>> pig_latin(\"software\")\n",
    "    'oftwaresay'\n",
    "    \"\"\"\n",
    "    first = word[0]\n",
    "    res = word[1:len(word)] + first + 'ay'\n",
    "    return res\n",
    "    pass #TODO: Implement me\n",
    "\n",
    "# If you'd like to actually run the doctests here, you can uncomment the lines below.\n",
    "# We use this slightly more complex method to test only the pig_latin function, without running tests on any other functions that may be in this notebook.\n",
    "import doctest\n",
    "doctest.run_docstring_examples(pig_latin, globals(), verbose = True)"
   ]
  },
  {
   "cell_type": "code",
   "execution_count": 21,
   "metadata": {
    "collapsed": false
   },
   "outputs": [
    {
     "name": "stdout",
     "output_type": "stream",
     "text": [
      "Finding tests in NoName\n",
      "Trying:\n",
      "    un_pig_latin(\"oftwaresay\")\n",
      "Expecting:\n",
      "    'software'\n",
      "ok\n"
     ]
    }
   ],
   "source": [
    "def un_pig_latin(word):\n",
    "    \"\"\"\n",
    "    Return given 'word' translated into Pig Latin\n",
    "    \n",
    "    >>> un_pig_latin(\"oftwaresay\")\n",
    "    'software'\n",
    "    \"\"\"\n",
    "    first = word[len(word) - 3]\n",
    "    res = first + word[0:len(word)-3]\n",
    "    return res\n",
    "\n",
    "# If you'd like to actually run the doctests here, you can uncomment the lines below.\n",
    "# We use this slightly more complex method to test only the pig_latin function, without running tests on any other functions that may be in this notebook.\n",
    "import doctest\n",
    "doctest.run_docstring_examples(un_pig_latin, globals(), verbose = True)"
   ]
  },
  {
   "cell_type": "markdown",
   "metadata": {},
   "source": [
    "### Chapter 8.7\n",
    "Encapsulate the character counting code in a fruitful function named `count` that accepts the string and the letter as arguments and returns the count."
   ]
  },
  {
   "cell_type": "code",
   "execution_count": 23,
   "metadata": {
    "collapsed": false
   },
   "outputs": [
    {
     "name": "stdout",
     "output_type": "stream",
     "text": [
      "Finding tests in NoName\n",
      "Trying:\n",
      "    count(\"banana\", 'a')\n",
      "Expecting:\n",
      "    3\n",
      "ok\n"
     ]
    }
   ],
   "source": [
    "def count(word, letter):\n",
    "    \"\"\"\n",
    "    returns number of times letter apears in word\n",
    "    \n",
    "    >>> count(\"banana\", 'a')\n",
    "    3\n",
    "    \"\"\"\n",
    "    count = 0\n",
    "    for char in word:\n",
    "        if char == letter:\n",
    "            count += 1\n",
    "    return count\n",
    "\n",
    "\n",
    "import doctest\n",
    "doctest.run_docstring_examples(count, globals(), verbose = True)"
   ]
  },
  {
   "cell_type": "markdown",
   "metadata": {},
   "source": [
    "### Exercise 8.1\n",
    "Skim the documentation of the Python [string methods](http://docs.python.org/2/library/stdtypes.html#string-methods). Play with them to make sure you understand how they work-- strip, replace, and upper/lower are particularly useful. Show us some of your experiments."
   ]
  },
  {
   "cell_type": "code",
   "execution_count": 26,
   "metadata": {
    "collapsed": false
   },
   "outputs": [
    {
     "data": {
      "text/plain": [
       "'blah,word,blah'"
      ]
     },
     "execution_count": 26,
     "metadata": {},
     "output_type": "execute_result"
    }
   ],
   "source": [
    "'   blah,word,blah   '.strip()"
   ]
  },
  {
   "cell_type": "code",
   "execution_count": 29,
   "metadata": {
    "collapsed": false
   },
   "outputs": [
    {
     "data": {
      "text/plain": [
       "'word'"
      ]
     },
     "execution_count": 29,
     "metadata": {},
     "output_type": "execute_result"
    }
   ],
   "source": [
    "'blah,word,blah'.strip('lbah,')"
   ]
  },
  {
   "cell_type": "code",
   "execution_count": 31,
   "metadata": {
    "collapsed": false
   },
   "outputs": [
    {
     "data": {
      "text/plain": [
       "'   blah,word,blah   '"
      ]
     },
     "execution_count": 31,
     "metadata": {},
     "output_type": "execute_result"
    }
   ],
   "source": [
    "'   blah,word,blah   '.strip('lbah,') # interesting limitation..."
   ]
  },
  {
   "cell_type": "code",
   "execution_count": 33,
   "metadata": {
    "collapsed": false
   },
   "outputs": [
    {
     "data": {
      "text/plain": [
       "'_wertyyyyyyy'"
      ]
     },
     "execution_count": 33,
     "metadata": {},
     "output_type": "execute_result"
    }
   ],
   "source": [
    "'qwertyyyyyyy'.replace('q','_')"
   ]
  },
  {
   "cell_type": "code",
   "execution_count": 34,
   "metadata": {
    "collapsed": false
   },
   "outputs": [
    {
     "data": {
      "text/plain": [
       "'qwert_______'"
      ]
     },
     "execution_count": 34,
     "metadata": {},
     "output_type": "execute_result"
    }
   ],
   "source": [
    "'qwertyyyyyyy'.replace('y','_')"
   ]
  },
  {
   "cell_type": "code",
   "execution_count": 35,
   "metadata": {
    "collapsed": false
   },
   "outputs": [
    {
     "data": {
      "text/plain": [
       "'qwert___yyyy'"
      ]
     },
     "execution_count": 35,
     "metadata": {},
     "output_type": "execute_result"
    }
   ],
   "source": [
    "'qwertyyyyyyy'.replace('y','_',3)"
   ]
  },
  {
   "cell_type": "code",
   "execution_count": 36,
   "metadata": {
    "collapsed": false
   },
   "outputs": [
    {
     "data": {
      "text/plain": [
       "'aaaabbbbcccc'"
      ]
     },
     "execution_count": 36,
     "metadata": {},
     "output_type": "execute_result"
    }
   ],
   "source": [
    "'aAaAbBbBcCcC'.lower()"
   ]
  },
  {
   "cell_type": "code",
   "execution_count": 37,
   "metadata": {
    "collapsed": false
   },
   "outputs": [
    {
     "data": {
      "text/plain": [
       "'AAAABBBBCCCC'"
      ]
     },
     "execution_count": 37,
     "metadata": {},
     "output_type": "execute_result"
    }
   ],
   "source": [
    "'aAaAbBbBcCcC'.upper()"
   ]
  },
  {
   "cell_type": "markdown",
   "metadata": {},
   "source": [
    "### Exercise 8.4  \n",
    "\n",
    "The following functions are all intended to check whether a string contains any lowercase letters, but at least some of them are wrong. For each function, describe what the function actually does (assuming that the parameter is a string)."
   ]
  },
  {
   "cell_type": "code",
   "execution_count": null,
   "metadata": {
    "collapsed": true
   },
   "outputs": [],
   "source": [
    "def any_lowercase1(s):\n",
    "    for c in s:\n",
    "        if c.islower():\n",
    "            return True\n",
    "        else:\n",
    "            return False"
   ]
  },
  {
   "cell_type": "markdown",
   "metadata": {},
   "source": [
    "The above function will check the capitalization of the first letter. It needs to use a flag, because the way it is written it will only check the first char, and then return a boolean tellin if it is upper or lowercase. It can return false negatives."
   ]
  },
  {
   "cell_type": "markdown",
   "metadata": {},
   "source": []
  },
  {
   "cell_type": "markdown",
   "metadata": {},
   "source": [
    " "
   ]
  },
  {
   "cell_type": "code",
   "execution_count": null,
   "metadata": {
    "collapsed": true
   },
   "outputs": [],
   "source": [
    "def any_lowercase2(s):\n",
    "    for c in s:\n",
    "        if 'c'.islower():\n",
    "            return 'True'\n",
    "        else:\n",
    "            return 'False'"
   ]
  },
  {
   "cell_type": "markdown",
   "metadata": {},
   "source": [
    "This function will always return the string \"True\". Instead of checking a etter in s, it checks the char 'c', which is lowercase. Even if it used c instead of 'c', it would still terminate early for the same reason as the above function. It can return false positives"
   ]
  },
  {
   "cell_type": "markdown",
   "metadata": {},
   "source": []
  },
  {
   "cell_type": "markdown",
   "metadata": {},
   "source": [
    " "
   ]
  },
  {
   "cell_type": "code",
   "execution_count": null,
   "metadata": {
    "collapsed": true
   },
   "outputs": [],
   "source": [
    "def any_lowercase3(s):\n",
    "    for c in s:\n",
    "        flag = c.islower()\n",
    "    return flag"
   ]
  },
  {
   "cell_type": "markdown",
   "metadata": {},
   "source": [
    "This function will return whether the last char in the string is lowercase. This is because he flag will be overwritten by the most recent char in s. it can return false negatives"
   ]
  },
  {
   "cell_type": "markdown",
   "metadata": {},
   "source": []
  },
  {
   "cell_type": "markdown",
   "metadata": {},
   "source": [
    " "
   ]
  },
  {
   "cell_type": "code",
   "execution_count": null,
   "metadata": {
    "collapsed": true
   },
   "outputs": [],
   "source": [
    "def any_lowercase4(s):\n",
    "    flag = False\n",
    "    for c in s:\n",
    "        flag = flag or c.islower()\n",
    "    return flag"
   ]
  },
  {
   "cell_type": "markdown",
   "metadata": {},
   "source": [
    "The \"or\" will return True if flag = true or islower = true. If flag becomes true, then flag will stay true. It should work"
   ]
  },
  {
   "cell_type": "markdown",
   "metadata": {},
   "source": []
  },
  {
   "cell_type": "markdown",
   "metadata": {},
   "source": [
    " "
   ]
  },
  {
   "cell_type": "code",
   "execution_count": null,
   "metadata": {
    "collapsed": true
   },
   "outputs": [],
   "source": [
    "def any_lowercase5(s):\n",
    "    for c in s:\n",
    "        if not c.islower():\n",
    "            return False\n",
    "    return True"
   ]
  },
  {
   "cell_type": "markdown",
   "metadata": {},
   "source": [
    "It will return false unless the srting is entirely lowercase, because the function will return false as soon as it detects a single uppercase letter. It can return false negatives"
   ]
  },
  {
   "cell_type": "markdown",
   "metadata": {},
   "source": []
  },
  {
   "cell_type": "markdown",
   "metadata": {},
   "source": [
    " "
   ]
  },
  {
   "cell_type": "markdown",
   "metadata": {},
   "source": [
    "## [Chapter 10.1 - 10.6](http://www.greenteapress.com/thinkpython2/html/thinkpython2011.html)\n",
    "\n",
    "You may want to review [state diagrams in Chapter 2](http://www.greenteapress.com/thinkpython2/html/thinkpython2003.html#toc13).\n",
    "\n"
   ]
  },
  {
   "cell_type": "markdown",
   "metadata": {},
   "source": [
    "**Quick check:** What type of items can be placed in a list?"
   ]
  },
  {
   "cell_type": "markdown",
   "metadata": {},
   "source": [
    "Pretty much any data type can be on a list, includings ints, strings, chars, other lists, floats, and objects. Not functions though."
   ]
  },
  {
   "cell_type": "markdown",
   "metadata": {},
   "source": []
  },
  {
   "cell_type": "markdown",
   "metadata": {},
   "source": [
    "**Quick check:** Give at least one similarity and one difference between lists and strings."
   ]
  },
  {
   "cell_type": "markdown",
   "metadata": {},
   "source": [
    "similarities: They can both be traversed using the same methods, and a string (in most languages) is a one dimensional array of chars, which could be written as a list.\n",
    "\n",
    "diferences: Strings are restricted to chars, and are immutable. "
   ]
  },
  {
   "cell_type": "markdown",
   "metadata": {},
   "source": []
  },
  {
   "cell_type": "markdown",
   "metadata": {},
   "source": [
    "### Exercise\n",
    "\n",
    "Write a Python function named `average` that takes a list of numbers and returns their arithmetic mean."
   ]
  },
  {
   "cell_type": "code",
   "execution_count": 3,
   "metadata": {
    "collapsed": false
   },
   "outputs": [
    {
     "name": "stdout",
     "output_type": "stream",
     "text": [
      "Finding tests in NoName\n",
      "Trying:\n",
      "    average([1, 2, 3])\n",
      "Expecting:\n",
      "    2.0\n",
      "ok\n"
     ]
    }
   ],
   "source": [
    "def average(list):\n",
    "    \"\"\"\n",
    "    Takes a list of numbers and averages them\n",
    "    \n",
    "    >>> average([1, 2, 3])\n",
    "    2.0\n",
    "    \"\"\"\n",
    "    ave = sum(list) / len(list)\n",
    "    return ave\n",
    "\n",
    "\n",
    "import doctest\n",
    "doctest.run_docstring_examples(average, globals(), verbose = True)"
   ]
  },
  {
   "cell_type": "markdown",
   "metadata": {},
   "source": [
    "### Exercise\n",
    "You own a restaurant, and you need to keep up with the latest food fads or risk losing your fickle customers. You decide to write a Python function that adds the hot new ingredient _du jour_ to each of your regular menu items and returns the trendy new menu."
   ]
  },
  {
   "cell_type": "code",
   "execution_count": 5,
   "metadata": {
    "collapsed": false
   },
   "outputs": [
    {
     "name": "stdout",
     "output_type": "stream",
     "text": [
      "Finding tests in NoName\n",
      "Trying:\n",
      "    add_ingredient([\"burger\", \"salad\", \"ice cream\"], \"kale\")\n",
      "Expecting:\n",
      "    ['burger with kale', 'salad with kale', 'ice cream with kale']\n",
      "ok\n"
     ]
    }
   ],
   "source": [
    "def add_ingredient(menu, ingredient):\n",
    "    \"\"\"\n",
    "    Given a list of string 'menu' items and a trendy 'ingredient' string of the day,\n",
    "    return a new menu list of strings with the ingredient added to each.\n",
    "    \n",
    "    >>> add_ingredient([\"burger\", \"salad\", \"ice cream\"], \"kale\")\n",
    "    ['burger with kale', 'salad with kale', 'ice cream with kale']\n",
    "    \n",
    "    \"\"\"\n",
    "    res = []\n",
    "    for item in menu:\n",
    "        res.append(item + ' with ' + ingredient)\n",
    "    return res\n",
    "\n",
    "# Running doctests in jupyter notebook:\n",
    "# If you'd like to actually run the doctests here, you can uncomment the lines below.\n",
    "# We use this slightly more complex method to test only the add_ingredient function,\n",
    "# without running tests on any other functions that may be in this notebook.\n",
    "\n",
    "import doctest\n",
    "doctest.run_docstring_examples(add_ingredient, globals(), verbose=True)"
   ]
  },
  {
   "cell_type": "markdown",
   "metadata": {},
   "source": [
    "## Quick poll\n",
    "About how long did you spend working on this reading journal?"
   ]
  },
  {
   "cell_type": "markdown",
   "metadata": {},
   "source": [
    "Around 2 hours"
   ]
  },
  {
   "cell_type": "markdown",
   "metadata": {},
   "source": []
  },
  {
   "cell_type": "markdown",
   "metadata": {},
   "source": [
    "## Reading Journal feedback\n",
    "\n",
    "Have any comments on this Reading Journal? Feel free to leave them below and we'll read them when you submit your journal entry. This could include suggestions to improve the exercises, topics you'd like to see covered in class next time, or other feedback.\n",
    "\n",
    "If you have Python questions or run into problems while completing the reading, you should post them to Piazza instead so you can get a quick response before your journal is submitted."
   ]
  },
  {
   "cell_type": "markdown",
   "metadata": {},
   "source": []
  },
  {
   "cell_type": "markdown",
   "metadata": {},
   "source": [
    " "
   ]
  }
 ],
 "metadata": {
  "kernelspec": {
   "display_name": "Python 3",
   "language": "python",
   "name": "python3"
  },
  "language_info": {
   "codemirror_mode": {
    "name": "ipython",
    "version": 3
   },
   "file_extension": ".py",
   "mimetype": "text/x-python",
   "name": "python",
   "nbconvert_exporter": "python",
   "pygments_lexer": "ipython3",
   "version": "3.4.3"
  }
 },
 "nbformat": 4,
 "nbformat_minor": 0
}
